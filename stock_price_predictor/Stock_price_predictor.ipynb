{
 "cells": [
  {
   "cell_type": "markdown",
   "metadata": {},
   "source": [
    "## Stock Market Prediction And Forecasting Using Stacked LSTM"
   ]
  },
  {
   "cell_type": "code",
   "execution_count": 1,
   "metadata": {},
   "outputs": [],
   "source": [
    "import tensorflow as tf\n",
    "import numpy as np\n",
    "import pandas as pd\n",
    "import yfinance as yf"
   ]
  },
  {
   "cell_type": "code",
   "execution_count": 2,
   "metadata": {},
   "outputs": [
    {
     "name": "stdout",
     "output_type": "stream",
     "text": [
      "[*********************100%%**********************]  1 of 1 completed\n"
     ]
    }
   ],
   "source": [
    "#collecting 10 yrs of stock data\n",
    "start = '2013-12-01'\n",
    "end = '2023-12-19'\n",
    "\n",
    "stock = 'GOOG'\n",
    "\n",
    "df=pd.DataFrame(yf.download(stock,start,end))"
   ]
  },
  {
   "cell_type": "code",
   "execution_count": 3,
   "metadata": {},
   "outputs": [],
   "source": [
    "df.to_csv('data.csv')"
   ]
  },
  {
   "cell_type": "code",
   "execution_count": 4,
   "metadata": {},
   "outputs": [],
   "source": [
    "df=pd.read_csv('data.csv')"
   ]
  },
  {
   "cell_type": "code",
   "execution_count": 5,
   "metadata": {},
   "outputs": [
    {
     "data": {
      "text/html": [
       "<div>\n",
       "<style scoped>\n",
       "    .dataframe tbody tr th:only-of-type {\n",
       "        vertical-align: middle;\n",
       "    }\n",
       "\n",
       "    .dataframe tbody tr th {\n",
       "        vertical-align: top;\n",
       "    }\n",
       "\n",
       "    .dataframe thead th {\n",
       "        text-align: right;\n",
       "    }\n",
       "</style>\n",
       "<table border=\"1\" class=\"dataframe\">\n",
       "  <thead>\n",
       "    <tr style=\"text-align: right;\">\n",
       "      <th></th>\n",
       "      <th>Date</th>\n",
       "      <th>Open</th>\n",
       "      <th>High</th>\n",
       "      <th>Low</th>\n",
       "      <th>Close</th>\n",
       "      <th>Adj Close</th>\n",
       "      <th>Volume</th>\n",
       "    </tr>\n",
       "  </thead>\n",
       "  <tbody>\n",
       "    <tr>\n",
       "      <th>0</th>\n",
       "      <td>2013-12-02</td>\n",
       "      <td>26.488464</td>\n",
       "      <td>26.559200</td>\n",
       "      <td>26.170904</td>\n",
       "      <td>26.263557</td>\n",
       "      <td>26.263557</td>\n",
       "      <td>55133884</td>\n",
       "    </tr>\n",
       "    <tr>\n",
       "      <th>1</th>\n",
       "      <td>2013-12-03</td>\n",
       "      <td>26.175636</td>\n",
       "      <td>26.486721</td>\n",
       "      <td>26.127567</td>\n",
       "      <td>26.233171</td>\n",
       "      <td>26.233171</td>\n",
       "      <td>67295297</td>\n",
       "    </tr>\n",
       "    <tr>\n",
       "      <th>2</th>\n",
       "      <td>2013-12-04</td>\n",
       "      <td>26.186098</td>\n",
       "      <td>26.500172</td>\n",
       "      <td>26.151976</td>\n",
       "      <td>26.355713</td>\n",
       "      <td>26.355713</td>\n",
       "      <td>47842656</td>\n",
       "    </tr>\n",
       "    <tr>\n",
       "      <th>3</th>\n",
       "      <td>2013-12-05</td>\n",
       "      <td>26.331305</td>\n",
       "      <td>26.392574</td>\n",
       "      <td>26.179125</td>\n",
       "      <td>26.334791</td>\n",
       "      <td>26.334791</td>\n",
       "      <td>45517975</td>\n",
       "    </tr>\n",
       "    <tr>\n",
       "      <th>4</th>\n",
       "      <td>2013-12-06</td>\n",
       "      <td>26.644878</td>\n",
       "      <td>26.650108</td>\n",
       "      <td>26.403034</td>\n",
       "      <td>26.646872</td>\n",
       "      <td>26.646872</td>\n",
       "      <td>57366220</td>\n",
       "    </tr>\n",
       "  </tbody>\n",
       "</table>\n",
       "</div>"
      ],
      "text/plain": [
       "         Date       Open       High        Low      Close  Adj Close    Volume\n",
       "0  2013-12-02  26.488464  26.559200  26.170904  26.263557  26.263557  55133884\n",
       "1  2013-12-03  26.175636  26.486721  26.127567  26.233171  26.233171  67295297\n",
       "2  2013-12-04  26.186098  26.500172  26.151976  26.355713  26.355713  47842656\n",
       "3  2013-12-05  26.331305  26.392574  26.179125  26.334791  26.334791  45517975\n",
       "4  2013-12-06  26.644878  26.650108  26.403034  26.646872  26.646872  57366220"
      ]
     },
     "execution_count": 5,
     "metadata": {},
     "output_type": "execute_result"
    }
   ],
   "source": [
    "df.head()"
   ]
  },
  {
   "cell_type": "code",
   "execution_count": 6,
   "metadata": {},
   "outputs": [
    {
     "data": {
      "text/html": [
       "<div>\n",
       "<style scoped>\n",
       "    .dataframe tbody tr th:only-of-type {\n",
       "        vertical-align: middle;\n",
       "    }\n",
       "\n",
       "    .dataframe tbody tr th {\n",
       "        vertical-align: top;\n",
       "    }\n",
       "\n",
       "    .dataframe thead th {\n",
       "        text-align: right;\n",
       "    }\n",
       "</style>\n",
       "<table border=\"1\" class=\"dataframe\">\n",
       "  <thead>\n",
       "    <tr style=\"text-align: right;\">\n",
       "      <th></th>\n",
       "      <th>Date</th>\n",
       "      <th>Open</th>\n",
       "      <th>High</th>\n",
       "      <th>Low</th>\n",
       "      <th>Close</th>\n",
       "      <th>Adj Close</th>\n",
       "      <th>Volume</th>\n",
       "    </tr>\n",
       "  </thead>\n",
       "  <tbody>\n",
       "    <tr>\n",
       "      <th>2524</th>\n",
       "      <td>2023-12-12</td>\n",
       "      <td>133.270004</td>\n",
       "      <td>134.539993</td>\n",
       "      <td>132.830002</td>\n",
       "      <td>133.639999</td>\n",
       "      <td>133.639999</td>\n",
       "      <td>26584000</td>\n",
       "    </tr>\n",
       "    <tr>\n",
       "      <th>2525</th>\n",
       "      <td>2023-12-13</td>\n",
       "      <td>134.544998</td>\n",
       "      <td>134.779999</td>\n",
       "      <td>132.949997</td>\n",
       "      <td>133.970001</td>\n",
       "      <td>133.970001</td>\n",
       "      <td>25414500</td>\n",
       "    </tr>\n",
       "    <tr>\n",
       "      <th>2526</th>\n",
       "      <td>2023-12-14</td>\n",
       "      <td>134.770004</td>\n",
       "      <td>135.035004</td>\n",
       "      <td>131.059998</td>\n",
       "      <td>133.199997</td>\n",
       "      <td>133.199997</td>\n",
       "      <td>29619100</td>\n",
       "    </tr>\n",
       "    <tr>\n",
       "      <th>2527</th>\n",
       "      <td>2023-12-15</td>\n",
       "      <td>132.919998</td>\n",
       "      <td>134.830002</td>\n",
       "      <td>132.630005</td>\n",
       "      <td>133.839996</td>\n",
       "      <td>133.839996</td>\n",
       "      <td>58569400</td>\n",
       "    </tr>\n",
       "    <tr>\n",
       "      <th>2528</th>\n",
       "      <td>2023-12-18</td>\n",
       "      <td>133.860001</td>\n",
       "      <td>138.380005</td>\n",
       "      <td>133.770004</td>\n",
       "      <td>137.190002</td>\n",
       "      <td>137.190002</td>\n",
       "      <td>25687300</td>\n",
       "    </tr>\n",
       "  </tbody>\n",
       "</table>\n",
       "</div>"
      ],
      "text/plain": [
       "            Date        Open        High         Low       Close   Adj Close  \\\n",
       "2524  2023-12-12  133.270004  134.539993  132.830002  133.639999  133.639999   \n",
       "2525  2023-12-13  134.544998  134.779999  132.949997  133.970001  133.970001   \n",
       "2526  2023-12-14  134.770004  135.035004  131.059998  133.199997  133.199997   \n",
       "2527  2023-12-15  132.919998  134.830002  132.630005  133.839996  133.839996   \n",
       "2528  2023-12-18  133.860001  138.380005  133.770004  137.190002  137.190002   \n",
       "\n",
       "        Volume  \n",
       "2524  26584000  \n",
       "2525  25414500  \n",
       "2526  29619100  \n",
       "2527  58569400  \n",
       "2528  25687300  "
      ]
     },
     "execution_count": 6,
     "metadata": {},
     "output_type": "execute_result"
    }
   ],
   "source": [
    "df.tail()"
   ]
  },
  {
   "cell_type": "code",
   "execution_count": 7,
   "metadata": {},
   "outputs": [],
   "source": [
    "df1=df.reset_index()['Close']"
   ]
  },
  {
   "cell_type": "code",
   "execution_count": 8,
   "metadata": {},
   "outputs": [
    {
     "data": {
      "text/plain": [
       "0        26.263557\n",
       "1        26.233171\n",
       "2        26.355713\n",
       "3        26.334791\n",
       "4        26.646872\n",
       "           ...    \n",
       "2524    133.639999\n",
       "2525    133.970001\n",
       "2526    133.199997\n",
       "2527    133.839996\n",
       "2528    137.190002\n",
       "Name: Close, Length: 2529, dtype: float64"
      ]
     },
     "execution_count": 8,
     "metadata": {},
     "output_type": "execute_result"
    }
   ],
   "source": [
    "df1"
   ]
  },
  {
   "cell_type": "code",
   "execution_count": 9,
   "metadata": {},
   "outputs": [
    {
     "data": {
      "text/plain": [
       "[<matplotlib.lines.Line2D at 0x2241aa2e250>]"
      ]
     },
     "execution_count": 9,
     "metadata": {},
     "output_type": "execute_result"
    },
    {
     "data": {
      "image/png": "[encoded data removed]",
      "text/plain": [
       "<Figure size 640x480 with 1 Axes>"
      ]
     },
     "metadata": {},
     "output_type": "display_data"
    }
   ],
   "source": [
    "import matplotlib.pyplot as plt\n",
    "plt.plot(df1)"
   ]
  },
  {
   "cell_type": "code",
   "execution_count": 10,
   "metadata": {},
   "outputs": [],
   "source": [
    "#LSTM are sensitive to the scale of the data. so we apply MinMax scaler "
   ]
  },
  {
   "cell_type": "code",
   "execution_count": 13,
   "metadata": {},
   "outputs": [],
   "source": [
    "from sklearn.preprocessing import MinMaxScaler\n",
    "scaler=MinMaxScaler(feature_range=(0,1))\n",
    "df1=scaler.fit_transform(np.array(df1).reshape(-1,1))"
   ]
  },
  {
   "cell_type": "code",
   "execution_count": 14,
   "metadata": {},
   "outputs": [
    {
     "name": "stdout",
     "output_type": "stream",
     "text": [
      "[[0.01350378]\n",
      " [0.01326291]\n",
      " [0.01423431]\n",
      " ...\n",
      " [0.86120372]\n",
      " [0.86627708]\n",
      " [0.89283304]]\n"
     ]
    }
   ],
   "source": [
    "print(df1)"
   ]
  },
  {
   "cell_type": "code",
   "execution_count": 15,
   "metadata": {},
   "outputs": [],
   "source": [
    "##splitting dataset into train and test split\n",
    "training_size=int(len(df1)*0.65)\n",
    "test_size=len(df1)-training_size\n",
    "train_data,test_data=df1[0:training_size,:],df1[training_size:len(df1),:1]"
   ]
  },
  {
   "cell_type": "code",
   "execution_count": 16,
   "metadata": {},
   "outputs": [
    {
     "data": {
      "text/plain": [
       "(1643, 886)"
      ]
     },
     "execution_count": 16,
     "metadata": {},
     "output_type": "execute_result"
    }
   ],
   "source": [
    "training_size,test_size"
   ]
  },
  {
   "cell_type": "code",
   "execution_count": 17,
   "metadata": {},
   "outputs": [
    {
     "data": {
      "text/plain": [
       "array([[0.01350378],\n",
       "       [0.01326291],\n",
       "       [0.01423431],\n",
       "       ...,\n",
       "       [0.382468  ],\n",
       "       [0.38630873],\n",
       "       [0.36173063]])"
      ]
     },
     "execution_count": 17,
     "metadata": {},
     "output_type": "execute_result"
    }
   ],
   "source": [
    "train_data"
   ]
  },
  {
   "cell_type": "code",
   "execution_count": 18,
   "metadata": {},
   "outputs": [],
   "source": [
    "import numpy\n",
    "# convert an array of values into a dataset matrix\n",
    "def create_dataset(dataset, time_step=1):\n",
    "    dataX, dataY = [], []\n",
    "\tfor i in range(len(dataset)-time_step-1):\n",
    "\t\ta = dataset[i:(i+time_step), 0]   ###i=0, 0,1,2,3-----99   100 \n",
    "\t\tdataX.append(a)\n",
    "\t\tdataY.append(dataset[i + time_step, 0])\n",
    "\treturn numpy.array(dataX), numpy.array(dataY)"
   ]
  },
  {
   "cell_type": "code",
   "execution_count": 19,
   "metadata": {},
   "outputs": [],
   "source": [
    "# reshape into X=t,t+1,t+2,t+3 and Y=t+4\n",
    "time_step = 100\n",
    "X_train, y_train = create_dataset(train_data, time_step)\n",
    "X_test, ytest = create_dataset(test_data, time_step)"
   ]
  },
  {
   "cell_type": "code",
   "execution_count": 20,
   "metadata": {},
   "outputs": [
    {
     "name": "stdout",
     "output_type": "stream",
     "text": [
      "(1542, 100)\n",
      "(1542,)\n"
     ]
    },
    {
     "data": {
      "text/plain": [
       "(None, None)"
      ]
     },
     "execution_count": 20,
     "metadata": {},
     "output_type": "execute_result"
    }
   ],
   "source": [
    "print(X_train.shape), print(y_train.shape)"
   ]
  },
  {
   "cell_type": "code",
   "execution_count": 21,
   "metadata": {},
   "outputs": [
    {
     "name": "stdout",
     "output_type": "stream",
     "text": [
      "(785, 100)\n",
      "(785,)\n"
     ]
    },
    {
     "data": {
      "text/plain": [
       "(None, None)"
      ]
     },
     "execution_count": 21,
     "metadata": {},
     "output_type": "execute_result"
    }
   ],
   "source": [
    "print(X_test.shape), print(ytest.shape)"
   ]
  },
  {
   "cell_type": "code",
   "execution_count": 22,
   "metadata": {},
   "outputs": [],
   "source": [
    "# reshape input to be [samples, time steps, features] which is required for LSTM\n",
    "X_train =X_train.reshape(X_train.shape[0],X_train.shape[1] , 1)\n",
    "X_test = X_test.reshape(X_test.shape[0],X_test.shape[1] , 1)"
   ]
  },
  {
   "cell_type": "code",
   "execution_count": 23,
   "metadata": {},
   "outputs": [],
   "source": [
    "### Create the Stacked LSTM model\n",
    "from tensorflow.keras.models import Sequential\n",
    "from tensorflow.keras.layers import Dense\n",
    "from tensorflow.keras.layers import LSTM"
   ]
  },
  {
   "cell_type": "code",
   "execution_count": 24,
   "metadata": {},
   "outputs": [],
   "source": [
    "model=Sequential()\n",
    "model.add(LSTM(50,return_sequences=True,input_shape=(100,1)))\n",
    "model.add(LSTM(50,return_sequences=True))\n",
    "model.add(LSTM(50))\n",
    "model.add(Dense(1))\n",
    "model.compile(loss='mean_squared_error',optimizer='adam')\n"
   ]
  },
  {
   "cell_type": "code",
   "execution_count": 25,
   "metadata": {},
   "outputs": [
    {
     "name": "stdout",
     "output_type": "stream",
     "text": [
      "Model: \"sequential\"\n",
      "_________________________________________________________________\n",
      " Layer (type)                Output Shape              Param #   \n",
      "=================================================================\n",
      " lstm (LSTM)                 (None, 100, 50)           10400     \n",
      "                                                                 \n",
      " lstm_1 (LSTM)               (None, 100, 50)           20200     \n",
      "                                                                 \n",
      " lstm_2 (LSTM)               (None, 50)                20200     \n",
      "                                                                 \n",
      " dense (Dense)               (None, 1)                 51        \n",
      "                                                                 \n",
      "=================================================================\n",
      "Total params: 50,851\n",
      "Trainable params: 50,851\n",
      "Non-trainable params: 0\n",
      "_________________________________________________________________\n"
     ]
    }
   ],
   "source": [
    "model.summary()"
   ]
  },
  {
   "cell_type": "code",
   "execution_count": 26,
   "metadata": {},
   "outputs": [
    {
     "name": "stdout",
     "output_type": "stream",
     "text": [
      "Model: \"sequential\"\n",
      "_________________________________________________________________\n",
      " Layer (type)                Output Shape              Param #   \n",
      "=================================================================\n",
      " lstm (LSTM)                 (None, 100, 50)           10400     \n",
      "                                                                 \n",
      " lstm_1 (LSTM)               (None, 100, 50)           20200     \n",
      "                                                                 \n",
      " lstm_2 (LSTM)               (None, 50)                20200     \n",
      "                                                                 \n",
      " dense (Dense)               (None, 1)                 51        \n",
      "                                                                 \n",
      "=================================================================\n",
      "Total params: 50,851\n",
      "Trainable params: 50,851\n",
      "Non-trainable params: 0\n",
      "_________________________________________________________________\n"
     ]
    }
   ],
   "source": [
    "model.summary()"
   ]
  },
  {
   "cell_type": "code",
   "execution_count": 27,
   "metadata": {},
   "outputs": [
    {
     "name": "stdout",
     "output_type": "stream",
     "text": [
      "Epoch 1/100\n",
      "25/25 [==============================] - 44s 839ms/step - loss: 0.0053 - val_loss: 0.0208\n",
      "Epoch 2/100\n",
      "25/25 [==============================] - 15s 601ms/step - loss: 5.0886e-04 - val_loss: 0.0068\n",
      "Epoch 3/100\n",
      "25/25 [==============================] - 14s 552ms/step - loss: 3.2517e-04 - val_loss: 0.0044\n",
      "Epoch 4/100\n",
      "25/25 [==============================] - 13s 538ms/step - loss: 3.2312e-04 - val_loss: 0.0081\n",
      "Epoch 5/100\n",
      "25/25 [==============================] - 14s 544ms/step - loss: 3.0564e-04 - val_loss: 0.0146\n",
      "Epoch 6/100\n",
      "25/25 [==============================] - 14s 555ms/step - loss: 3.4417e-04 - val_loss: 0.0082\n",
      "Epoch 7/100\n",
      "25/25 [==============================] - 13s 511ms/step - loss: 2.8300e-04 - val_loss: 0.0063\n",
      "Epoch 8/100\n",
      "25/25 [==============================] - 13s 536ms/step - loss: 2.7148e-04 - val_loss: 0.0112\n",
      "Epoch 9/100\n",
      "25/25 [==============================] - 13s 505ms/step - loss: 2.8443e-04 - val_loss: 0.0092\n",
      "Epoch 10/100\n",
      "25/25 [==============================] - 13s 512ms/step - loss: 2.3742e-04 - val_loss: 0.0086\n",
      "Epoch 11/100\n",
      "25/25 [==============================] - 13s 516ms/step - loss: 2.5028e-04 - val_loss: 0.0076\n",
      "Epoch 12/100\n",
      "25/25 [==============================] - 13s 519ms/step - loss: 2.2504e-04 - val_loss: 0.0048\n",
      "Epoch 13/100\n",
      "25/25 [==============================] - 12s 501ms/step - loss: 2.6772e-04 - val_loss: 0.0085\n",
      "Epoch 14/100\n",
      "25/25 [==============================] - 13s 542ms/step - loss: 2.1607e-04 - val_loss: 0.0093\n",
      "Epoch 15/100\n",
      "25/25 [==============================] - 16s 647ms/step - loss: 2.0128e-04 - val_loss: 0.0103\n",
      "Epoch 16/100\n",
      "25/25 [==============================] - 15s 621ms/step - loss: 2.0827e-04 - val_loss: 0.0147\n",
      "Epoch 17/100\n",
      "25/25 [==============================] - 15s 600ms/step - loss: 2.2590e-04 - val_loss: 0.0087\n",
      "Epoch 18/100\n",
      "25/25 [==============================] - 15s 588ms/step - loss: 1.8995e-04 - val_loss: 0.0062\n",
      "Epoch 19/100\n",
      "25/25 [==============================] - 15s 604ms/step - loss: 2.3368e-04 - val_loss: 0.0124\n",
      "Epoch 20/100\n",
      "25/25 [==============================] - 15s 600ms/step - loss: 1.7754e-04 - val_loss: 0.0172\n",
      "Epoch 21/100\n",
      "25/25 [==============================] - 14s 582ms/step - loss: 1.6910e-04 - val_loss: 0.0140\n",
      "Epoch 22/100\n",
      "25/25 [==============================] - 18s 737ms/step - loss: 2.1427e-04 - val_loss: 0.0216\n",
      "Epoch 23/100\n",
      "25/25 [==============================] - 17s 667ms/step - loss: 1.8914e-04 - val_loss: 0.0178\n",
      "Epoch 24/100\n",
      "25/25 [==============================] - 15s 615ms/step - loss: 1.6413e-04 - val_loss: 0.0208\n",
      "Epoch 25/100\n",
      "25/25 [==============================] - 15s 607ms/step - loss: 1.5421e-04 - val_loss: 0.0270\n",
      "Epoch 26/100\n",
      "25/25 [==============================] - 17s 672ms/step - loss: 1.7760e-04 - val_loss: 0.0307\n",
      "Epoch 27/100\n",
      "25/25 [==============================] - 15s 574ms/step - loss: 1.7110e-04 - val_loss: 0.0287\n",
      "Epoch 28/100\n",
      "25/25 [==============================] - 14s 584ms/step - loss: 1.7656e-04 - val_loss: 0.0358\n",
      "Epoch 29/100\n",
      "25/25 [==============================] - 15s 611ms/step - loss: 1.5870e-04 - val_loss: 0.0154\n",
      "Epoch 30/100\n",
      "25/25 [==============================] - 19s 757ms/step - loss: 1.4213e-04 - val_loss: 0.0339\n",
      "Epoch 31/100\n",
      "25/25 [==============================] - 15s 597ms/step - loss: 1.8661e-04 - val_loss: 0.0227\n",
      "Epoch 32/100\n",
      "25/25 [==============================] - 20s 785ms/step - loss: 1.6163e-04 - val_loss: 0.0185\n",
      "Epoch 33/100\n",
      "25/25 [==============================] - 20s 790ms/step - loss: 1.4388e-04 - val_loss: 0.0288\n",
      "Epoch 34/100\n",
      "25/25 [==============================] - 19s 746ms/step - loss: 1.4214e-04 - val_loss: 0.0354\n",
      "Epoch 35/100\n",
      "25/25 [==============================] - 16s 646ms/step - loss: 1.5723e-04 - val_loss: 0.0181\n",
      "Epoch 36/100\n",
      "25/25 [==============================] - 17s 669ms/step - loss: 1.3679e-04 - val_loss: 0.0302\n",
      "Epoch 37/100\n",
      "25/25 [==============================] - 15s 588ms/step - loss: 1.4619e-04 - val_loss: 0.0357\n",
      "Epoch 38/100\n",
      "25/25 [==============================] - 14s 579ms/step - loss: 1.5515e-04 - val_loss: 0.0329\n",
      "Epoch 39/100\n",
      "25/25 [==============================] - 15s 593ms/step - loss: 1.4308e-04 - val_loss: 0.0352\n",
      "Epoch 40/100\n",
      "25/25 [==============================] - 16s 642ms/step - loss: 1.3671e-04 - val_loss: 0.0356\n",
      "Epoch 41/100\n",
      "25/25 [==============================] - 16s 628ms/step - loss: 1.6005e-04 - val_loss: 0.0436\n",
      "Epoch 42/100\n",
      "25/25 [==============================] - 14s 575ms/step - loss: 1.4025e-04 - val_loss: 0.0370\n",
      "Epoch 43/100\n",
      "25/25 [==============================] - 15s 587ms/step - loss: 1.2329e-04 - val_loss: 0.0239\n",
      "Epoch 44/100\n",
      "25/25 [==============================] - 14s 557ms/step - loss: 1.2898e-04 - val_loss: 0.0279\n",
      "Epoch 45/100\n",
      "25/25 [==============================] - 15s 620ms/step - loss: 1.2120e-04 - val_loss: 0.0336\n",
      "Epoch 46/100\n",
      "25/25 [==============================] - 15s 584ms/step - loss: 1.3412e-04 - val_loss: 0.0260\n",
      "Epoch 47/100\n",
      "25/25 [==============================] - 13s 528ms/step - loss: 1.2330e-04 - val_loss: 0.0200\n",
      "Epoch 48/100\n",
      "25/25 [==============================] - 13s 541ms/step - loss: 1.3307e-04 - val_loss: 0.0288\n",
      "Epoch 49/100\n",
      "25/25 [==============================] - 13s 543ms/step - loss: 1.2467e-04 - val_loss: 0.0276\n",
      "Epoch 50/100\n",
      "25/25 [==============================] - 13s 522ms/step - loss: 1.1976e-04 - val_loss: 0.0228\n",
      "Epoch 51/100\n",
      "25/25 [==============================] - 13s 543ms/step - loss: 1.2167e-04 - val_loss: 0.0370\n",
      "Epoch 52/100\n",
      "25/25 [==============================] - 13s 540ms/step - loss: 1.2527e-04 - val_loss: 0.0236\n",
      "Epoch 53/100\n",
      "25/25 [==============================] - 15s 618ms/step - loss: 1.2198e-04 - val_loss: 0.0291\n",
      "Epoch 54/100\n",
      "25/25 [==============================] - 19s 767ms/step - loss: 1.1566e-04 - val_loss: 0.0307\n",
      "Epoch 55/100\n",
      "25/25 [==============================] - 18s 710ms/step - loss: 1.2071e-04 - val_loss: 0.0301\n",
      "Epoch 56/100\n",
      "25/25 [==============================] - 18s 731ms/step - loss: 1.1257e-04 - val_loss: 0.0316\n",
      "Epoch 57/100\n",
      "25/25 [==============================] - 18s 707ms/step - loss: 1.1749e-04 - val_loss: 0.0216\n",
      "Epoch 58/100\n",
      "25/25 [==============================] - 23s 954ms/step - loss: 1.0871e-04 - val_loss: 0.0347\n",
      "Epoch 59/100\n",
      "25/25 [==============================] - 15s 606ms/step - loss: 1.1875e-04 - val_loss: 0.0386\n",
      "Epoch 60/100\n",
      "25/25 [==============================] - 13s 530ms/step - loss: 1.0659e-04 - val_loss: 0.0307\n",
      "Epoch 61/100\n",
      "25/25 [==============================] - 15s 620ms/step - loss: 1.0774e-04 - val_loss: 0.0278\n",
      "Epoch 62/100\n",
      "25/25 [==============================] - 15s 615ms/step - loss: 1.0895e-04 - val_loss: 0.0227\n",
      "Epoch 63/100\n",
      "25/25 [==============================] - 14s 581ms/step - loss: 1.1382e-04 - val_loss: 0.0151\n",
      "Epoch 64/100\n",
      "25/25 [==============================] - 14s 549ms/step - loss: 1.0876e-04 - val_loss: 0.0273\n",
      "Epoch 65/100\n",
      "25/25 [==============================] - 16s 623ms/step - loss: 1.0327e-04 - val_loss: 0.0158\n",
      "Epoch 66/100\n",
      "25/25 [==============================] - 15s 591ms/step - loss: 1.1219e-04 - val_loss: 0.0183\n",
      "Epoch 67/100\n",
      "25/25 [==============================] - 14s 577ms/step - loss: 1.2962e-04 - val_loss: 0.0374\n",
      "Epoch 68/100\n",
      "25/25 [==============================] - 14s 566ms/step - loss: 1.0535e-04 - val_loss: 0.0196\n",
      "Epoch 69/100\n",
      "25/25 [==============================] - 15s 594ms/step - loss: 9.4263e-05 - val_loss: 0.0256\n",
      "Epoch 70/100\n",
      "25/25 [==============================] - 16s 636ms/step - loss: 9.2398e-05 - val_loss: 0.0176\n",
      "Epoch 71/100\n",
      "25/25 [==============================] - 14s 566ms/step - loss: 1.3128e-04 - val_loss: 0.0274\n",
      "Epoch 72/100\n",
      "25/25 [==============================] - 14s 564ms/step - loss: 9.5279e-05 - val_loss: 0.0207\n",
      "Epoch 73/100\n",
      "25/25 [==============================] - 14s 554ms/step - loss: 9.7179e-05 - val_loss: 0.0206\n",
      "Epoch 74/100\n",
      "25/25 [==============================] - 15s 618ms/step - loss: 9.9378e-05 - val_loss: 0.0226\n",
      "Epoch 75/100\n",
      "25/25 [==============================] - 15s 587ms/step - loss: 9.0749e-05 - val_loss: 0.0374\n",
      "Epoch 76/100\n",
      "25/25 [==============================] - 15s 610ms/step - loss: 9.3506e-05 - val_loss: 0.0169\n",
      "Epoch 77/100\n"
     ]
    },
    {
     "name": "stdout",
     "output_type": "stream",
     "text": [
      "25/25 [==============================] - 15s 584ms/step - loss: 9.2689e-05 - val_loss: 0.0267\n",
      "Epoch 78/100\n",
      "25/25 [==============================] - 15s 610ms/step - loss: 9.9093e-05 - val_loss: 0.0224\n",
      "Epoch 79/100\n",
      "25/25 [==============================] - 15s 603ms/step - loss: 8.1492e-05 - val_loss: 0.0287\n",
      "Epoch 80/100\n",
      "25/25 [==============================] - 16s 656ms/step - loss: 8.4441e-05 - val_loss: 0.0404\n",
      "Epoch 81/100\n",
      "25/25 [==============================] - 16s 644ms/step - loss: 9.4857e-05 - val_loss: 0.0233\n",
      "Epoch 82/100\n",
      "25/25 [==============================] - 16s 666ms/step - loss: 8.7191e-05 - val_loss: 0.0269\n",
      "Epoch 83/100\n",
      "25/25 [==============================] - 15s 618ms/step - loss: 8.3649e-05 - val_loss: 0.0163\n",
      "Epoch 84/100\n",
      "25/25 [==============================] - 15s 587ms/step - loss: 7.8891e-05 - val_loss: 0.0265\n",
      "Epoch 85/100\n",
      "25/25 [==============================] - 16s 664ms/step - loss: 8.4867e-05 - val_loss: 0.0230\n",
      "Epoch 86/100\n",
      "25/25 [==============================] - 16s 628ms/step - loss: 7.9515e-05 - val_loss: 0.0187\n",
      "Epoch 87/100\n",
      "25/25 [==============================] - 15s 594ms/step - loss: 8.9285e-05 - val_loss: 0.0304\n",
      "Epoch 88/100\n",
      "25/25 [==============================] - 13s 541ms/step - loss: 7.3614e-05 - val_loss: 0.0188\n",
      "Epoch 89/100\n",
      "25/25 [==============================] - 14s 578ms/step - loss: 7.7464e-05 - val_loss: 0.0176\n",
      "Epoch 90/100\n",
      "25/25 [==============================] - 13s 529ms/step - loss: 8.6681e-05 - val_loss: 0.0210\n",
      "Epoch 91/100\n",
      "25/25 [==============================] - 13s 511ms/step - loss: 6.5604e-05 - val_loss: 0.0202\n",
      "Epoch 92/100\n",
      "25/25 [==============================] - 13s 515ms/step - loss: 6.8554e-05 - val_loss: 0.0200\n",
      "Epoch 93/100\n",
      "25/25 [==============================] - 13s 512ms/step - loss: 6.5635e-05 - val_loss: 0.0144\n",
      "Epoch 94/100\n",
      "25/25 [==============================] - 13s 510ms/step - loss: 6.5576e-05 - val_loss: 0.0158\n",
      "Epoch 95/100\n",
      "25/25 [==============================] - 14s 562ms/step - loss: 7.7164e-05 - val_loss: 0.0287\n",
      "Epoch 96/100\n",
      "25/25 [==============================] - 15s 628ms/step - loss: 6.5339e-05 - val_loss: 0.0147\n",
      "Epoch 97/100\n",
      "25/25 [==============================] - 14s 563ms/step - loss: 6.7379e-05 - val_loss: 0.0178\n",
      "Epoch 98/100\n",
      "25/25 [==============================] - 15s 606ms/step - loss: 6.6206e-05 - val_loss: 0.0134\n",
      "Epoch 99/100\n",
      "25/25 [==============================] - 14s 581ms/step - loss: 7.1659e-05 - val_loss: 0.0221\n",
      "Epoch 100/100\n",
      "25/25 [==============================] - 14s 544ms/step - loss: 7.5194e-05 - val_loss: 0.0094\n"
     ]
    },
    {
     "data": {
      "text/plain": [
       "<keras.callbacks.History at 0x2241e8f8e50>"
      ]
     },
     "execution_count": 27,
     "metadata": {},
     "output_type": "execute_result"
    }
   ],
   "source": [
    "model.fit(X_train,y_train,validation_data=(X_test,ytest),epochs=100,batch_size=64,verbose=1)"
   ]
  },
  {
   "cell_type": "code",
   "execution_count": 30,
   "metadata": {},
   "outputs": [
    {
     "name": "stdout",
     "output_type": "stream",
     "text": [
      "49/49 [==============================] - 13s 102ms/step\n",
      "25/25 [==============================] - 3s 100ms/step\n"
     ]
    }
   ],
   "source": [
    "#Lets Do the prediction and check performance metrics\n",
    "train_predict=model.predict(X_train)\n",
    "test_predict=model.predict(X_test)"
   ]
  },
  {
   "cell_type": "code",
   "execution_count": 31,
   "metadata": {},
   "outputs": [],
   "source": [
    "#Transformback to original form\n",
    "train_predict=scaler.inverse_transform(train_predict)\n",
    "test_predict=scaler.inverse_transform(test_predict)"
   ]
  },
  {
   "cell_type": "code",
   "execution_count": 32,
   "metadata": {},
   "outputs": [
    {
     "data": {
      "text/plain": [
       "47.52189764269983"
      ]
     },
     "execution_count": 32,
     "metadata": {},
     "output_type": "execute_result"
    }
   ],
   "source": [
    "#Calculate RMSE performance metrics\n",
    "import math\n",
    "from sklearn.metrics import mean_squared_error\n",
    "math.sqrt(mean_squared_error(y_train,train_predict))"
   ]
  },
  {
   "cell_type": "code",
   "execution_count": 33,
   "metadata": {},
   "outputs": [
    {
     "data": {
      "text/plain": [
       "108.21839437592158"
      ]
     },
     "execution_count": 33,
     "metadata": {},
     "output_type": "execute_result"
    }
   ],
   "source": [
    "#Test Data RMSE\n",
    "math.sqrt(mean_squared_error(ytest,test_predict))"
   ]
  },
  {
   "cell_type": "code",
   "execution_count": 34,
   "metadata": {},
   "outputs": [
    {
     "data": {
      "image/png": "[encoded data removed]",
      "text/plain": [
       "<Figure size 640x480 with 1 Axes>"
      ]
     },
     "metadata": {},
     "output_type": "display_data"
    }
   ],
   "source": [
    "#Plotting \n",
    "# shift train predictions for plotting\n",
    "look_back=100\n",
    "trainPredictPlot = numpy.empty_like(df1)\n",
    "trainPredictPlot[:, :] = np.nan\n",
    "trainPredictPlot[look_back:len(train_predict)+look_back, :] = train_predict\n",
    "# shift test predictions for plotting\n",
    "testPredictPlot = numpy.empty_like(df1)\n",
    "testPredictPlot[:, :] = numpy.nan\n",
    "testPredictPlot[len(train_predict)+(look_back*2)+1:len(df1)-1, :] = test_predict\n",
    "# plot baseline and predictions\n",
    "plt.plot(scaler.inverse_transform(df1))\n",
    "plt.plot(trainPredictPlot)\n",
    "plt.plot(testPredictPlot)\n",
    "plt.show()"
   ]
  },
  {
   "cell_type": "code",
   "execution_count": 35,
   "metadata": {},
   "outputs": [],
   "source": [
    "l=len(test_data)"
   ]
  },
  {
   "cell_type": "code",
   "execution_count": 36,
   "metadata": {},
   "outputs": [
    {
     "data": {
      "text/plain": [
       "(1, 100)"
      ]
     },
     "execution_count": 36,
     "metadata": {},
     "output_type": "execute_result"
    }
   ],
   "source": [
    "x_input=test_data[l-100:].reshape(1,-1)\n",
    "x_input.shape\n"
   ]
  },
  {
   "cell_type": "code",
   "execution_count": 37,
   "metadata": {},
   "outputs": [],
   "source": [
    "temp_input=list(x_input)\n",
    "temp_input=temp_input[0].tolist()"
   ]
  },
  {
   "cell_type": "code",
   "execution_count": 38,
   "metadata": {},
   "outputs": [
    {
     "name": "stdout",
     "output_type": "stream",
     "text": [
      "[0.7514923]\n",
      "101\n",
      "1 day input [0.8604903  0.85081918 0.82505598 0.82608655 0.82426322 0.85121557\n",
      " 0.8504228  0.83702592 0.83750165 0.8371845  0.85034358 0.83797726\n",
      " 0.82878175 0.83948343 0.82085461 0.8273548  0.8333795  0.86128306\n",
      " 0.83916628 0.84130664 0.85002642 0.87935693 0.89077191 0.89410141\n",
      " 0.88974146 0.88902805 0.87840559 0.88498513 0.89291227 0.89719299\n",
      " 0.88395468 0.89529043 0.90710191 0.90163217 0.90686411 0.90583354\n",
      " 0.87222243 0.84661781 0.84574582 0.85303877 0.83147695 0.84741057\n",
      " 0.86064888 0.85050215 0.87682019 0.86199648 0.88554009 0.8833205\n",
      " 0.90504078 0.91114471 0.90876655 0.92858439 0.9174071  0.90385176\n",
      " 0.91899262 0.92295619 0.90940073 0.90702256 0.88926585 0.89846124\n",
      " 0.9160595  0.80943951 0.78383489 0.7835178  0.80214656 0.79857937\n",
      " 0.81657395 0.82458038 0.8387699  0.84733122 0.85486198 0.86167932\n",
      " 0.84923378 0.86802106 0.86469168 0.8788812  0.88641208 0.90480298\n",
      " 0.89085126 0.89861982 0.90416879 0.91526686 0.90099798 0.89965038\n",
      " 0.90416879 0.88657053 0.86691126 0.86215505 0.84083103 0.85478275\n",
      " 0.84717265 0.90282119 0.88847309 0.87309442 0.86469168 0.86730765\n",
      " 0.86120372 0.86627708 0.89283304 0.75149232]\n",
      "1 day output [[0.68668526]]\n",
      "2 day input [0.85081918 0.82505598 0.82608655 0.82426322 0.85121557 0.8504228\n",
      " 0.83702592 0.83750165 0.8371845  0.85034358 0.83797726 0.82878175\n",
      " 0.83948343 0.82085461 0.8273548  0.8333795  0.86128306 0.83916628\n",
      " 0.84130664 0.85002642 0.87935693 0.89077191 0.89410141 0.88974146\n",
      " 0.88902805 0.87840559 0.88498513 0.89291227 0.89719299 0.88395468\n",
      " 0.89529043 0.90710191 0.90163217 0.90686411 0.90583354 0.87222243\n",
      " 0.84661781 0.84574582 0.85303877 0.83147695 0.84741057 0.86064888\n",
      " 0.85050215 0.87682019 0.86199648 0.88554009 0.8833205  0.90504078\n",
      " 0.91114471 0.90876655 0.92858439 0.9174071  0.90385176 0.91899262\n",
      " 0.92295619 0.90940073 0.90702256 0.88926585 0.89846124 0.9160595\n",
      " 0.80943951 0.78383489 0.7835178  0.80214656 0.79857937 0.81657395\n",
      " 0.82458038 0.8387699  0.84733122 0.85486198 0.86167932 0.84923378\n",
      " 0.86802106 0.86469168 0.8788812  0.88641208 0.90480298 0.89085126\n",
      " 0.89861982 0.90416879 0.91526686 0.90099798 0.89965038 0.90416879\n",
      " 0.88657053 0.86691126 0.86215505 0.84083103 0.85478275 0.84717265\n",
      " 0.90282119 0.88847309 0.87309442 0.86469168 0.86730765 0.86120372\n",
      " 0.86627708 0.89283304 0.75149232 0.68668526]\n",
      "2 day output [[0.6023779]]\n",
      "3 day input [0.82505598 0.82608655 0.82426322 0.85121557 0.8504228  0.83702592\n",
      " 0.83750165 0.8371845  0.85034358 0.83797726 0.82878175 0.83948343\n",
      " 0.82085461 0.8273548  0.8333795  0.86128306 0.83916628 0.84130664\n",
      " 0.85002642 0.87935693 0.89077191 0.89410141 0.88974146 0.88902805\n",
      " 0.87840559 0.88498513 0.89291227 0.89719299 0.88395468 0.89529043\n",
      " 0.90710191 0.90163217 0.90686411 0.90583354 0.87222243 0.84661781\n",
      " 0.84574582 0.85303877 0.83147695 0.84741057 0.86064888 0.85050215\n",
      " 0.87682019 0.86199648 0.88554009 0.8833205  0.90504078 0.91114471\n",
      " 0.90876655 0.92858439 0.9174071  0.90385176 0.91899262 0.92295619\n",
      " 0.90940073 0.90702256 0.88926585 0.89846124 0.9160595  0.80943951\n",
      " 0.78383489 0.7835178  0.80214656 0.79857937 0.81657395 0.82458038\n",
      " 0.8387699  0.84733122 0.85486198 0.86167932 0.84923378 0.86802106\n",
      " 0.86469168 0.8788812  0.88641208 0.90480298 0.89085126 0.89861982\n",
      " 0.90416879 0.91526686 0.90099798 0.89965038 0.90416879 0.88657053\n",
      " 0.86691126 0.86215505 0.84083103 0.85478275 0.84717265 0.90282119\n",
      " 0.88847309 0.87309442 0.86469168 0.86730765 0.86120372 0.86627708\n",
      " 0.89283304 0.75149232 0.68668526 0.60237789]\n",
      "3 day output [[0.5192333]]\n",
      "4 day input [0.82608655 0.82426322 0.85121557 0.8504228  0.83702592 0.83750165\n",
      " 0.8371845  0.85034358 0.83797726 0.82878175 0.83948343 0.82085461\n",
      " 0.8273548  0.8333795  0.86128306 0.83916628 0.84130664 0.85002642\n",
      " 0.87935693 0.89077191 0.89410141 0.88974146 0.88902805 0.87840559\n",
      " 0.88498513 0.89291227 0.89719299 0.88395468 0.89529043 0.90710191\n",
      " 0.90163217 0.90686411 0.90583354 0.87222243 0.84661781 0.84574582\n",
      " 0.85303877 0.83147695 0.84741057 0.86064888 0.85050215 0.87682019\n",
      " 0.86199648 0.88554009 0.8833205  0.90504078 0.91114471 0.90876655\n",
      " 0.92858439 0.9174071  0.90385176 0.91899262 0.92295619 0.90940073\n",
      " 0.90702256 0.88926585 0.89846124 0.9160595  0.80943951 0.78383489\n",
      " 0.7835178  0.80214656 0.79857937 0.81657395 0.82458038 0.8387699\n",
      " 0.84733122 0.85486198 0.86167932 0.84923378 0.86802106 0.86469168\n",
      " 0.8788812  0.88641208 0.90480298 0.89085126 0.89861982 0.90416879\n",
      " 0.91526686 0.90099798 0.89965038 0.90416879 0.88657053 0.86691126\n",
      " 0.86215505 0.84083103 0.85478275 0.84717265 0.90282119 0.88847309\n",
      " 0.87309442 0.86469168 0.86730765 0.86120372 0.86627708 0.89283304\n",
      " 0.75149232 0.68668526 0.60237789 0.51923329]\n",
      "4 day output [[0.43682832]]\n",
      "5 day input [0.82426322 0.85121557 0.8504228  0.83702592 0.83750165 0.8371845\n",
      " 0.85034358 0.83797726 0.82878175 0.83948343 0.82085461 0.8273548\n",
      " 0.8333795  0.86128306 0.83916628 0.84130664 0.85002642 0.87935693\n",
      " 0.89077191 0.89410141 0.88974146 0.88902805 0.87840559 0.88498513\n",
      " 0.89291227 0.89719299 0.88395468 0.89529043 0.90710191 0.90163217\n",
      " 0.90686411 0.90583354 0.87222243 0.84661781 0.84574582 0.85303877\n",
      " 0.83147695 0.84741057 0.86064888 0.85050215 0.87682019 0.86199648\n",
      " 0.88554009 0.8833205  0.90504078 0.91114471 0.90876655 0.92858439\n",
      " 0.9174071  0.90385176 0.91899262 0.92295619 0.90940073 0.90702256\n",
      " 0.88926585 0.89846124 0.9160595  0.80943951 0.78383489 0.7835178\n",
      " 0.80214656 0.79857937 0.81657395 0.82458038 0.8387699  0.84733122\n",
      " 0.85486198 0.86167932 0.84923378 0.86802106 0.86469168 0.8788812\n",
      " 0.88641208 0.90480298 0.89085126 0.89861982 0.90416879 0.91526686\n",
      " 0.90099798 0.89965038 0.90416879 0.88657053 0.86691126 0.86215505\n",
      " 0.84083103 0.85478275 0.84717265 0.90282119 0.88847309 0.87309442\n",
      " 0.86469168 0.86730765 0.86120372 0.86627708 0.89283304 0.75149232\n",
      " 0.68668526 0.60237789 0.51923329 0.43682832]\n",
      "5 day output [[0.3486604]]\n",
      "6 day input [0.85121557 0.8504228  0.83702592 0.83750165 0.8371845  0.85034358\n",
      " 0.83797726 0.82878175 0.83948343 0.82085461 0.8273548  0.8333795\n",
      " 0.86128306 0.83916628 0.84130664 0.85002642 0.87935693 0.89077191\n",
      " 0.89410141 0.88974146 0.88902805 0.87840559 0.88498513 0.89291227\n",
      " 0.89719299 0.88395468 0.89529043 0.90710191 0.90163217 0.90686411\n",
      " 0.90583354 0.87222243 0.84661781 0.84574582 0.85303877 0.83147695\n",
      " 0.84741057 0.86064888 0.85050215 0.87682019 0.86199648 0.88554009\n",
      " 0.8833205  0.90504078 0.91114471 0.90876655 0.92858439 0.9174071\n",
      " 0.90385176 0.91899262 0.92295619 0.90940073 0.90702256 0.88926585\n",
      " 0.89846124 0.9160595  0.80943951 0.78383489 0.7835178  0.80214656\n",
      " 0.79857937 0.81657395 0.82458038 0.8387699  0.84733122 0.85486198\n",
      " 0.86167932 0.84923378 0.86802106 0.86469168 0.8788812  0.88641208\n",
      " 0.90480298 0.89085126 0.89861982 0.90416879 0.91526686 0.90099798\n",
      " 0.89965038 0.90416879 0.88657053 0.86691126 0.86215505 0.84083103\n",
      " 0.85478275 0.84717265 0.90282119 0.88847309 0.87309442 0.86469168\n",
      " 0.86730765 0.86120372 0.86627708 0.89283304 0.75149232 0.68668526\n",
      " 0.60237789 0.51923329 0.43682832 0.34866041]\n",
      "6 day output [[0.2485484]]\n",
      "7 day input [0.8504228  0.83702592 0.83750165 0.8371845  0.85034358 0.83797726\n",
      " 0.82878175 0.83948343 0.82085461 0.8273548  0.8333795  0.86128306\n",
      " 0.83916628 0.84130664 0.85002642 0.87935693 0.89077191 0.89410141\n",
      " 0.88974146 0.88902805 0.87840559 0.88498513 0.89291227 0.89719299\n",
      " 0.88395468 0.89529043 0.90710191 0.90163217 0.90686411 0.90583354\n",
      " 0.87222243 0.84661781 0.84574582 0.85303877 0.83147695 0.84741057\n",
      " 0.86064888 0.85050215 0.87682019 0.86199648 0.88554009 0.8833205\n",
      " 0.90504078 0.91114471 0.90876655 0.92858439 0.9174071  0.90385176\n",
      " 0.91899262 0.92295619 0.90940073 0.90702256 0.88926585 0.89846124\n",
      " 0.9160595  0.80943951 0.78383489 0.7835178  0.80214656 0.79857937\n",
      " 0.81657395 0.82458038 0.8387699  0.84733122 0.85486198 0.86167932\n",
      " 0.84923378 0.86802106 0.86469168 0.8788812  0.88641208 0.90480298\n",
      " 0.89085126 0.89861982 0.90416879 0.91526686 0.90099798 0.89965038\n",
      " 0.90416879 0.88657053 0.86691126 0.86215505 0.84083103 0.85478275\n",
      " 0.84717265 0.90282119 0.88847309 0.87309442 0.86469168 0.86730765\n",
      " 0.86120372 0.86627708 0.89283304 0.75149232 0.68668526 0.60237789\n",
      " 0.51923329 0.43682832 0.34866041 0.2485484 ]\n",
      "7 day output [[0.1378129]]\n",
      "8 day input [0.83702592 0.83750165 0.8371845  0.85034358 0.83797726 0.82878175\n",
      " 0.83948343 0.82085461 0.8273548  0.8333795  0.86128306 0.83916628\n",
      " 0.84130664 0.85002642 0.87935693 0.89077191 0.89410141 0.88974146\n",
      " 0.88902805 0.87840559 0.88498513 0.89291227 0.89719299 0.88395468\n",
      " 0.89529043 0.90710191 0.90163217 0.90686411 0.90583354 0.87222243\n",
      " 0.84661781 0.84574582 0.85303877 0.83147695 0.84741057 0.86064888\n",
      " 0.85050215 0.87682019 0.86199648 0.88554009 0.8833205  0.90504078\n",
      " 0.91114471 0.90876655 0.92858439 0.9174071  0.90385176 0.91899262\n",
      " 0.92295619 0.90940073 0.90702256 0.88926585 0.89846124 0.9160595\n",
      " 0.80943951 0.78383489 0.7835178  0.80214656 0.79857937 0.81657395\n",
      " 0.82458038 0.8387699  0.84733122 0.85486198 0.86167932 0.84923378\n",
      " 0.86802106 0.86469168 0.8788812  0.88641208 0.90480298 0.89085126\n",
      " 0.89861982 0.90416879 0.91526686 0.90099798 0.89965038 0.90416879\n",
      " 0.88657053 0.86691126 0.86215505 0.84083103 0.85478275 0.84717265\n",
      " 0.90282119 0.88847309 0.87309442 0.86469168 0.86730765 0.86120372\n",
      " 0.86627708 0.89283304 0.75149232 0.68668526 0.60237789 0.51923329\n",
      " 0.43682832 0.34866041 0.2485484  0.1378129 ]\n"
     ]
    },
    {
     "name": "stdout",
     "output_type": "stream",
     "text": [
      "8 day output [[0.03150922]]\n",
      "9 day input [0.83750165 0.8371845  0.85034358 0.83797726 0.82878175 0.83948343\n",
      " 0.82085461 0.8273548  0.8333795  0.86128306 0.83916628 0.84130664\n",
      " 0.85002642 0.87935693 0.89077191 0.89410141 0.88974146 0.88902805\n",
      " 0.87840559 0.88498513 0.89291227 0.89719299 0.88395468 0.89529043\n",
      " 0.90710191 0.90163217 0.90686411 0.90583354 0.87222243 0.84661781\n",
      " 0.84574582 0.85303877 0.83147695 0.84741057 0.86064888 0.85050215\n",
      " 0.87682019 0.86199648 0.88554009 0.8833205  0.90504078 0.91114471\n",
      " 0.90876655 0.92858439 0.9174071  0.90385176 0.91899262 0.92295619\n",
      " 0.90940073 0.90702256 0.88926585 0.89846124 0.9160595  0.80943951\n",
      " 0.78383489 0.7835178  0.80214656 0.79857937 0.81657395 0.82458038\n",
      " 0.8387699  0.84733122 0.85486198 0.86167932 0.84923378 0.86802106\n",
      " 0.86469168 0.8788812  0.88641208 0.90480298 0.89085126 0.89861982\n",
      " 0.90416879 0.91526686 0.90099798 0.89965038 0.90416879 0.88657053\n",
      " 0.86691126 0.86215505 0.84083103 0.85478275 0.84717265 0.90282119\n",
      " 0.88847309 0.87309442 0.86469168 0.86730765 0.86120372 0.86627708\n",
      " 0.89283304 0.75149232 0.68668526 0.60237789 0.51923329 0.43682832\n",
      " 0.34866041 0.2485484  0.1378129  0.03150922]\n",
      "9 day output [[-0.04940907]]\n",
      "10 day input [ 0.8371845   0.85034358  0.83797726  0.82878175  0.83948343  0.82085461\n",
      "  0.8273548   0.8333795   0.86128306  0.83916628  0.84130664  0.85002642\n",
      "  0.87935693  0.89077191  0.89410141  0.88974146  0.88902805  0.87840559\n",
      "  0.88498513  0.89291227  0.89719299  0.88395468  0.89529043  0.90710191\n",
      "  0.90163217  0.90686411  0.90583354  0.87222243  0.84661781  0.84574582\n",
      "  0.85303877  0.83147695  0.84741057  0.86064888  0.85050215  0.87682019\n",
      "  0.86199648  0.88554009  0.8833205   0.90504078  0.91114471  0.90876655\n",
      "  0.92858439  0.9174071   0.90385176  0.91899262  0.92295619  0.90940073\n",
      "  0.90702256  0.88926585  0.89846124  0.9160595   0.80943951  0.78383489\n",
      "  0.7835178   0.80214656  0.79857937  0.81657395  0.82458038  0.8387699\n",
      "  0.84733122  0.85486198  0.86167932  0.84923378  0.86802106  0.86469168\n",
      "  0.8788812   0.88641208  0.90480298  0.89085126  0.89861982  0.90416879\n",
      "  0.91526686  0.90099798  0.89965038  0.90416879  0.88657053  0.86691126\n",
      "  0.86215505  0.84083103  0.85478275  0.84717265  0.90282119  0.88847309\n",
      "  0.87309442  0.86469168  0.86730765  0.86120372  0.86627708  0.89283304\n",
      "  0.75149232  0.68668526  0.60237789  0.51923329  0.43682832  0.34866041\n",
      "  0.2485484   0.1378129   0.03150922 -0.04940907]\n",
      "10 day output [[-0.0956661]]\n",
      "11 day input [ 0.85034358  0.83797726  0.82878175  0.83948343  0.82085461  0.8273548\n",
      "  0.8333795   0.86128306  0.83916628  0.84130664  0.85002642  0.87935693\n",
      "  0.89077191  0.89410141  0.88974146  0.88902805  0.87840559  0.88498513\n",
      "  0.89291227  0.89719299  0.88395468  0.89529043  0.90710191  0.90163217\n",
      "  0.90686411  0.90583354  0.87222243  0.84661781  0.84574582  0.85303877\n",
      "  0.83147695  0.84741057  0.86064888  0.85050215  0.87682019  0.86199648\n",
      "  0.88554009  0.8833205   0.90504078  0.91114471  0.90876655  0.92858439\n",
      "  0.9174071   0.90385176  0.91899262  0.92295619  0.90940073  0.90702256\n",
      "  0.88926585  0.89846124  0.9160595   0.80943951  0.78383489  0.7835178\n",
      "  0.80214656  0.79857937  0.81657395  0.82458038  0.8387699   0.84733122\n",
      "  0.85486198  0.86167932  0.84923378  0.86802106  0.86469168  0.8788812\n",
      "  0.88641208  0.90480298  0.89085126  0.89861982  0.90416879  0.91526686\n",
      "  0.90099798  0.89965038  0.90416879  0.88657053  0.86691126  0.86215505\n",
      "  0.84083103  0.85478275  0.84717265  0.90282119  0.88847309  0.87309442\n",
      "  0.86469168  0.86730765  0.86120372  0.86627708  0.89283304  0.75149232\n",
      "  0.68668526  0.60237789  0.51923329  0.43682832  0.34866041  0.2485484\n",
      "  0.1378129   0.03150922 -0.04940907 -0.0956661 ]\n",
      "11 day output [[-0.11122595]]\n",
      "12 day input [ 0.83797726  0.82878175  0.83948343  0.82085461  0.8273548   0.8333795\n",
      "  0.86128306  0.83916628  0.84130664  0.85002642  0.87935693  0.89077191\n",
      "  0.89410141  0.88974146  0.88902805  0.87840559  0.88498513  0.89291227\n",
      "  0.89719299  0.88395468  0.89529043  0.90710191  0.90163217  0.90686411\n",
      "  0.90583354  0.87222243  0.84661781  0.84574582  0.85303877  0.83147695\n",
      "  0.84741057  0.86064888  0.85050215  0.87682019  0.86199648  0.88554009\n",
      "  0.8833205   0.90504078  0.91114471  0.90876655  0.92858439  0.9174071\n",
      "  0.90385176  0.91899262  0.92295619  0.90940073  0.90702256  0.88926585\n",
      "  0.89846124  0.9160595   0.80943951  0.78383489  0.7835178   0.80214656\n",
      "  0.79857937  0.81657395  0.82458038  0.8387699   0.84733122  0.85486198\n",
      "  0.86167932  0.84923378  0.86802106  0.86469168  0.8788812   0.88641208\n",
      "  0.90480298  0.89085126  0.89861982  0.90416879  0.91526686  0.90099798\n",
      "  0.89965038  0.90416879  0.88657053  0.86691126  0.86215505  0.84083103\n",
      "  0.85478275  0.84717265  0.90282119  0.88847309  0.87309442  0.86469168\n",
      "  0.86730765  0.86120372  0.86627708  0.89283304  0.75149232  0.68668526\n",
      "  0.60237789  0.51923329  0.43682832  0.34866041  0.2485484   0.1378129\n",
      "  0.03150922 -0.04940907 -0.0956661  -0.11122595]\n",
      "12 day output [[-0.10483722]]\n",
      "13 day input [ 0.82878175  0.83948343  0.82085461  0.8273548   0.8333795   0.86128306\n",
      "  0.83916628  0.84130664  0.85002642  0.87935693  0.89077191  0.89410141\n",
      "  0.88974146  0.88902805  0.87840559  0.88498513  0.89291227  0.89719299\n",
      "  0.88395468  0.89529043  0.90710191  0.90163217  0.90686411  0.90583354\n",
      "  0.87222243  0.84661781  0.84574582  0.85303877  0.83147695  0.84741057\n",
      "  0.86064888  0.85050215  0.87682019  0.86199648  0.88554009  0.8833205\n",
      "  0.90504078  0.91114471  0.90876655  0.92858439  0.9174071   0.90385176\n",
      "  0.91899262  0.92295619  0.90940073  0.90702256  0.88926585  0.89846124\n",
      "  0.9160595   0.80943951  0.78383489  0.7835178   0.80214656  0.79857937\n",
      "  0.81657395  0.82458038  0.8387699   0.84733122  0.85486198  0.86167932\n",
      "  0.84923378  0.86802106  0.86469168  0.8788812   0.88641208  0.90480298\n",
      "  0.89085126  0.89861982  0.90416879  0.91526686  0.90099798  0.89965038\n",
      "  0.90416879  0.88657053  0.86691126  0.86215505  0.84083103  0.85478275\n",
      "  0.84717265  0.90282119  0.88847309  0.87309442  0.86469168  0.86730765\n",
      "  0.86120372  0.86627708  0.89283304  0.75149232  0.68668526  0.60237789\n",
      "  0.51923329  0.43682832  0.34866041  0.2485484   0.1378129   0.03150922\n",
      " -0.04940907 -0.0956661  -0.11122595 -0.10483722]\n",
      "13 day output [[-0.0852612]]\n",
      "14 day input [ 0.83948343  0.82085461  0.8273548   0.8333795   0.86128306  0.83916628\n",
      "  0.84130664  0.85002642  0.87935693  0.89077191  0.89410141  0.88974146\n",
      "  0.88902805  0.87840559  0.88498513  0.89291227  0.89719299  0.88395468\n",
      "  0.89529043  0.90710191  0.90163217  0.90686411  0.90583354  0.87222243\n",
      "  0.84661781  0.84574582  0.85303877  0.83147695  0.84741057  0.86064888\n",
      "  0.85050215  0.87682019  0.86199648  0.88554009  0.8833205   0.90504078\n",
      "  0.91114471  0.90876655  0.92858439  0.9174071   0.90385176  0.91899262\n",
      "  0.92295619  0.90940073  0.90702256  0.88926585  0.89846124  0.9160595\n",
      "  0.80943951  0.78383489  0.7835178   0.80214656  0.79857937  0.81657395\n",
      "  0.82458038  0.8387699   0.84733122  0.85486198  0.86167932  0.84923378\n",
      "  0.86802106  0.86469168  0.8788812   0.88641208  0.90480298  0.89085126\n",
      "  0.89861982  0.90416879  0.91526686  0.90099798  0.89965038  0.90416879\n",
      "  0.88657053  0.86691126  0.86215505  0.84083103  0.85478275  0.84717265\n",
      "  0.90282119  0.88847309  0.87309442  0.86469168  0.86730765  0.86120372\n",
      "  0.86627708  0.89283304  0.75149232  0.68668526  0.60237789  0.51923329\n",
      "  0.43682832  0.34866041  0.2485484   0.1378129   0.03150922 -0.04940907\n",
      " -0.0956661  -0.11122595 -0.10483722 -0.0852612 ]\n",
      "14 day output [[-0.05921753]]\n",
      "15 day input [ 0.82085461  0.8273548   0.8333795   0.86128306  0.83916628  0.84130664\n",
      "  0.85002642  0.87935693  0.89077191  0.89410141  0.88974146  0.88902805\n",
      "  0.87840559  0.88498513  0.89291227  0.89719299  0.88395468  0.89529043\n",
      "  0.90710191  0.90163217  0.90686411  0.90583354  0.87222243  0.84661781\n",
      "  0.84574582  0.85303877  0.83147695  0.84741057  0.86064888  0.85050215\n",
      "  0.87682019  0.86199648  0.88554009  0.8833205   0.90504078  0.91114471\n",
      "  0.90876655  0.92858439  0.9174071   0.90385176  0.91899262  0.92295619\n",
      "  0.90940073  0.90702256  0.88926585  0.89846124  0.9160595   0.80943951\n",
      "  0.78383489  0.7835178   0.80214656  0.79857937  0.81657395  0.82458038\n",
      "  0.8387699   0.84733122  0.85486198  0.86167932  0.84923378  0.86802106\n",
      "  0.86469168  0.8788812   0.88641208  0.90480298  0.89085126  0.89861982\n",
      "  0.90416879  0.91526686  0.90099798  0.89965038  0.90416879  0.88657053\n",
      "  0.86691126  0.86215505  0.84083103  0.85478275  0.84717265  0.90282119\n",
      "  0.88847309  0.87309442  0.86469168  0.86730765  0.86120372  0.86627708\n",
      "  0.89283304  0.75149232  0.68668526  0.60237789  0.51923329  0.43682832\n",
      "  0.34866041  0.2485484   0.1378129   0.03150922 -0.04940907 -0.0956661\n",
      " -0.11122595 -0.10483722 -0.0852612  -0.05921753]\n"
     ]
    },
    {
     "name": "stdout",
     "output_type": "stream",
     "text": [
      "15 day output [[-0.03103129]]\n",
      "16 day input [ 0.8273548   0.8333795   0.86128306  0.83916628  0.84130664  0.85002642\n",
      "  0.87935693  0.89077191  0.89410141  0.88974146  0.88902805  0.87840559\n",
      "  0.88498513  0.89291227  0.89719299  0.88395468  0.89529043  0.90710191\n",
      "  0.90163217  0.90686411  0.90583354  0.87222243  0.84661781  0.84574582\n",
      "  0.85303877  0.83147695  0.84741057  0.86064888  0.85050215  0.87682019\n",
      "  0.86199648  0.88554009  0.8833205   0.90504078  0.91114471  0.90876655\n",
      "  0.92858439  0.9174071   0.90385176  0.91899262  0.92295619  0.90940073\n",
      "  0.90702256  0.88926585  0.89846124  0.9160595   0.80943951  0.78383489\n",
      "  0.7835178   0.80214656  0.79857937  0.81657395  0.82458038  0.8387699\n",
      "  0.84733122  0.85486198  0.86167932  0.84923378  0.86802106  0.86469168\n",
      "  0.8788812   0.88641208  0.90480298  0.89085126  0.89861982  0.90416879\n",
      "  0.91526686  0.90099798  0.89965038  0.90416879  0.88657053  0.86691126\n",
      "  0.86215505  0.84083103  0.85478275  0.84717265  0.90282119  0.88847309\n",
      "  0.87309442  0.86469168  0.86730765  0.86120372  0.86627708  0.89283304\n",
      "  0.75149232  0.68668526  0.60237789  0.51923329  0.43682832  0.34866041\n",
      "  0.2485484   0.1378129   0.03150922 -0.04940907 -0.0956661  -0.11122595\n",
      " -0.10483722 -0.0852612  -0.05921753 -0.03103129]\n",
      "16 day output [[-0.00328297]]\n",
      "17 day input [ 0.8333795   0.86128306  0.83916628  0.84130664  0.85002642  0.87935693\n",
      "  0.89077191  0.89410141  0.88974146  0.88902805  0.87840559  0.88498513\n",
      "  0.89291227  0.89719299  0.88395468  0.89529043  0.90710191  0.90163217\n",
      "  0.90686411  0.90583354  0.87222243  0.84661781  0.84574582  0.85303877\n",
      "  0.83147695  0.84741057  0.86064888  0.85050215  0.87682019  0.86199648\n",
      "  0.88554009  0.8833205   0.90504078  0.91114471  0.90876655  0.92858439\n",
      "  0.9174071   0.90385176  0.91899262  0.92295619  0.90940073  0.90702256\n",
      "  0.88926585  0.89846124  0.9160595   0.80943951  0.78383489  0.7835178\n",
      "  0.80214656  0.79857937  0.81657395  0.82458038  0.8387699   0.84733122\n",
      "  0.85486198  0.86167932  0.84923378  0.86802106  0.86469168  0.8788812\n",
      "  0.88641208  0.90480298  0.89085126  0.89861982  0.90416879  0.91526686\n",
      "  0.90099798  0.89965038  0.90416879  0.88657053  0.86691126  0.86215505\n",
      "  0.84083103  0.85478275  0.84717265  0.90282119  0.88847309  0.87309442\n",
      "  0.86469168  0.86730765  0.86120372  0.86627708  0.89283304  0.75149232\n",
      "  0.68668526  0.60237789  0.51923329  0.43682832  0.34866041  0.2485484\n",
      "  0.1378129   0.03150922 -0.04940907 -0.0956661  -0.11122595 -0.10483722\n",
      " -0.0852612  -0.05921753 -0.03103129 -0.00328297]\n",
      "17 day output [[0.02248618]]\n",
      "18 day input [ 0.86128306  0.83916628  0.84130664  0.85002642  0.87935693  0.89077191\n",
      "  0.89410141  0.88974146  0.88902805  0.87840559  0.88498513  0.89291227\n",
      "  0.89719299  0.88395468  0.89529043  0.90710191  0.90163217  0.90686411\n",
      "  0.90583354  0.87222243  0.84661781  0.84574582  0.85303877  0.83147695\n",
      "  0.84741057  0.86064888  0.85050215  0.87682019  0.86199648  0.88554009\n",
      "  0.8833205   0.90504078  0.91114471  0.90876655  0.92858439  0.9174071\n",
      "  0.90385176  0.91899262  0.92295619  0.90940073  0.90702256  0.88926585\n",
      "  0.89846124  0.9160595   0.80943951  0.78383489  0.7835178   0.80214656\n",
      "  0.79857937  0.81657395  0.82458038  0.8387699   0.84733122  0.85486198\n",
      "  0.86167932  0.84923378  0.86802106  0.86469168  0.8788812   0.88641208\n",
      "  0.90480298  0.89085126  0.89861982  0.90416879  0.91526686  0.90099798\n",
      "  0.89965038  0.90416879  0.88657053  0.86691126  0.86215505  0.84083103\n",
      "  0.85478275  0.84717265  0.90282119  0.88847309  0.87309442  0.86469168\n",
      "  0.86730765  0.86120372  0.86627708  0.89283304  0.75149232  0.68668526\n",
      "  0.60237789  0.51923329  0.43682832  0.34866041  0.2485484   0.1378129\n",
      "  0.03150922 -0.04940907 -0.0956661  -0.11122595 -0.10483722 -0.0852612\n",
      " -0.05921753 -0.03103129 -0.00328297  0.02248618]\n",
      "18 day output [[0.04535098]]\n",
      "19 day input [ 0.83916628  0.84130664  0.85002642  0.87935693  0.89077191  0.89410141\n",
      "  0.88974146  0.88902805  0.87840559  0.88498513  0.89291227  0.89719299\n",
      "  0.88395468  0.89529043  0.90710191  0.90163217  0.90686411  0.90583354\n",
      "  0.87222243  0.84661781  0.84574582  0.85303877  0.83147695  0.84741057\n",
      "  0.86064888  0.85050215  0.87682019  0.86199648  0.88554009  0.8833205\n",
      "  0.90504078  0.91114471  0.90876655  0.92858439  0.9174071   0.90385176\n",
      "  0.91899262  0.92295619  0.90940073  0.90702256  0.88926585  0.89846124\n",
      "  0.9160595   0.80943951  0.78383489  0.7835178   0.80214656  0.79857937\n",
      "  0.81657395  0.82458038  0.8387699   0.84733122  0.85486198  0.86167932\n",
      "  0.84923378  0.86802106  0.86469168  0.8788812   0.88641208  0.90480298\n",
      "  0.89085126  0.89861982  0.90416879  0.91526686  0.90099798  0.89965038\n",
      "  0.90416879  0.88657053  0.86691126  0.86215505  0.84083103  0.85478275\n",
      "  0.84717265  0.90282119  0.88847309  0.87309442  0.86469168  0.86730765\n",
      "  0.86120372  0.86627708  0.89283304  0.75149232  0.68668526  0.60237789\n",
      "  0.51923329  0.43682832  0.34866041  0.2485484   0.1378129   0.03150922\n",
      " -0.04940907 -0.0956661  -0.11122595 -0.10483722 -0.0852612  -0.05921753\n",
      " -0.03103129 -0.00328297  0.02248618  0.04535098]\n",
      "19 day output [[0.06482099]]\n",
      "20 day input [ 0.84130664  0.85002642  0.87935693  0.89077191  0.89410141  0.88974146\n",
      "  0.88902805  0.87840559  0.88498513  0.89291227  0.89719299  0.88395468\n",
      "  0.89529043  0.90710191  0.90163217  0.90686411  0.90583354  0.87222243\n",
      "  0.84661781  0.84574582  0.85303877  0.83147695  0.84741057  0.86064888\n",
      "  0.85050215  0.87682019  0.86199648  0.88554009  0.8833205   0.90504078\n",
      "  0.91114471  0.90876655  0.92858439  0.9174071   0.90385176  0.91899262\n",
      "  0.92295619  0.90940073  0.90702256  0.88926585  0.89846124  0.9160595\n",
      "  0.80943951  0.78383489  0.7835178   0.80214656  0.79857937  0.81657395\n",
      "  0.82458038  0.8387699   0.84733122  0.85486198  0.86167932  0.84923378\n",
      "  0.86802106  0.86469168  0.8788812   0.88641208  0.90480298  0.89085126\n",
      "  0.89861982  0.90416879  0.91526686  0.90099798  0.89965038  0.90416879\n",
      "  0.88657053  0.86691126  0.86215505  0.84083103  0.85478275  0.84717265\n",
      "  0.90282119  0.88847309  0.87309442  0.86469168  0.86730765  0.86120372\n",
      "  0.86627708  0.89283304  0.75149232  0.68668526  0.60237789  0.51923329\n",
      "  0.43682832  0.34866041  0.2485484   0.1378129   0.03150922 -0.04940907\n",
      " -0.0956661  -0.11122595 -0.10483722 -0.0852612  -0.05921753 -0.03103129\n",
      " -0.00328297  0.02248618  0.04535098  0.06482099]\n",
      "20 day output [[0.08076794]]\n",
      "21 day input [ 0.85002642  0.87935693  0.89077191  0.89410141  0.88974146  0.88902805\n",
      "  0.87840559  0.88498513  0.89291227  0.89719299  0.88395468  0.89529043\n",
      "  0.90710191  0.90163217  0.90686411  0.90583354  0.87222243  0.84661781\n",
      "  0.84574582  0.85303877  0.83147695  0.84741057  0.86064888  0.85050215\n",
      "  0.87682019  0.86199648  0.88554009  0.8833205   0.90504078  0.91114471\n",
      "  0.90876655  0.92858439  0.9174071   0.90385176  0.91899262  0.92295619\n",
      "  0.90940073  0.90702256  0.88926585  0.89846124  0.9160595   0.80943951\n",
      "  0.78383489  0.7835178   0.80214656  0.79857937  0.81657395  0.82458038\n",
      "  0.8387699   0.84733122  0.85486198  0.86167932  0.84923378  0.86802106\n",
      "  0.86469168  0.8788812   0.88641208  0.90480298  0.89085126  0.89861982\n",
      "  0.90416879  0.91526686  0.90099798  0.89965038  0.90416879  0.88657053\n",
      "  0.86691126  0.86215505  0.84083103  0.85478275  0.84717265  0.90282119\n",
      "  0.88847309  0.87309442  0.86469168  0.86730765  0.86120372  0.86627708\n",
      "  0.89283304  0.75149232  0.68668526  0.60237789  0.51923329  0.43682832\n",
      "  0.34866041  0.2485484   0.1378129   0.03150922 -0.04940907 -0.0956661\n",
      " -0.11122595 -0.10483722 -0.0852612  -0.05921753 -0.03103129 -0.00328297\n",
      "  0.02248618  0.04535098  0.06482099  0.08076794]\n",
      "21 day output [[0.09338056]]\n",
      "22 day input [ 0.87935693  0.89077191  0.89410141  0.88974146  0.88902805  0.87840559\n",
      "  0.88498513  0.89291227  0.89719299  0.88395468  0.89529043  0.90710191\n",
      "  0.90163217  0.90686411  0.90583354  0.87222243  0.84661781  0.84574582\n",
      "  0.85303877  0.83147695  0.84741057  0.86064888  0.85050215  0.87682019\n",
      "  0.86199648  0.88554009  0.8833205   0.90504078  0.91114471  0.90876655\n",
      "  0.92858439  0.9174071   0.90385176  0.91899262  0.92295619  0.90940073\n",
      "  0.90702256  0.88926585  0.89846124  0.9160595   0.80943951  0.78383489\n",
      "  0.7835178   0.80214656  0.79857937  0.81657395  0.82458038  0.8387699\n",
      "  0.84733122  0.85486198  0.86167932  0.84923378  0.86802106  0.86469168\n",
      "  0.8788812   0.88641208  0.90480298  0.89085126  0.89861982  0.90416879\n",
      "  0.91526686  0.90099798  0.89965038  0.90416879  0.88657053  0.86691126\n",
      "  0.86215505  0.84083103  0.85478275  0.84717265  0.90282119  0.88847309\n",
      "  0.87309442  0.86469168  0.86730765  0.86120372  0.86627708  0.89283304\n",
      "  0.75149232  0.68668526  0.60237789  0.51923329  0.43682832  0.34866041\n",
      "  0.2485484   0.1378129   0.03150922 -0.04940907 -0.0956661  -0.11122595\n",
      " -0.10483722 -0.0852612  -0.05921753 -0.03103129 -0.00328297  0.02248618\n",
      "  0.04535098  0.06482099  0.08076794  0.09338056]\n"
     ]
    },
    {
     "name": "stdout",
     "output_type": "stream",
     "text": [
      "22 day output [[0.10309616]]\n",
      "23 day input [ 0.89077191  0.89410141  0.88974146  0.88902805  0.87840559  0.88498513\n",
      "  0.89291227  0.89719299  0.88395468  0.89529043  0.90710191  0.90163217\n",
      "  0.90686411  0.90583354  0.87222243  0.84661781  0.84574582  0.85303877\n",
      "  0.83147695  0.84741057  0.86064888  0.85050215  0.87682019  0.86199648\n",
      "  0.88554009  0.8833205   0.90504078  0.91114471  0.90876655  0.92858439\n",
      "  0.9174071   0.90385176  0.91899262  0.92295619  0.90940073  0.90702256\n",
      "  0.88926585  0.89846124  0.9160595   0.80943951  0.78383489  0.7835178\n",
      "  0.80214656  0.79857937  0.81657395  0.82458038  0.8387699   0.84733122\n",
      "  0.85486198  0.86167932  0.84923378  0.86802106  0.86469168  0.8788812\n",
      "  0.88641208  0.90480298  0.89085126  0.89861982  0.90416879  0.91526686\n",
      "  0.90099798  0.89965038  0.90416879  0.88657053  0.86691126  0.86215505\n",
      "  0.84083103  0.85478275  0.84717265  0.90282119  0.88847309  0.87309442\n",
      "  0.86469168  0.86730765  0.86120372  0.86627708  0.89283304  0.75149232\n",
      "  0.68668526  0.60237789  0.51923329  0.43682832  0.34866041  0.2485484\n",
      "  0.1378129   0.03150922 -0.04940907 -0.0956661  -0.11122595 -0.10483722\n",
      " -0.0852612  -0.05921753 -0.03103129 -0.00328297  0.02248618  0.04535098\n",
      "  0.06482099  0.08076794  0.09338056  0.10309616]\n",
      "23 day output [[0.11051551]]\n",
      "24 day input [ 0.89410141  0.88974146  0.88902805  0.87840559  0.88498513  0.89291227\n",
      "  0.89719299  0.88395468  0.89529043  0.90710191  0.90163217  0.90686411\n",
      "  0.90583354  0.87222243  0.84661781  0.84574582  0.85303877  0.83147695\n",
      "  0.84741057  0.86064888  0.85050215  0.87682019  0.86199648  0.88554009\n",
      "  0.8833205   0.90504078  0.91114471  0.90876655  0.92858439  0.9174071\n",
      "  0.90385176  0.91899262  0.92295619  0.90940073  0.90702256  0.88926585\n",
      "  0.89846124  0.9160595   0.80943951  0.78383489  0.7835178   0.80214656\n",
      "  0.79857937  0.81657395  0.82458038  0.8387699   0.84733122  0.85486198\n",
      "  0.86167932  0.84923378  0.86802106  0.86469168  0.8788812   0.88641208\n",
      "  0.90480298  0.89085126  0.89861982  0.90416879  0.91526686  0.90099798\n",
      "  0.89965038  0.90416879  0.88657053  0.86691126  0.86215505  0.84083103\n",
      "  0.85478275  0.84717265  0.90282119  0.88847309  0.87309442  0.86469168\n",
      "  0.86730765  0.86120372  0.86627708  0.89283304  0.75149232  0.68668526\n",
      "  0.60237789  0.51923329  0.43682832  0.34866041  0.2485484   0.1378129\n",
      "  0.03150922 -0.04940907 -0.0956661  -0.11122595 -0.10483722 -0.0852612\n",
      " -0.05921753 -0.03103129 -0.00328297  0.02248618  0.04535098  0.06482099\n",
      "  0.08076794  0.09338056  0.10309616  0.11051551]\n",
      "24 day output [[0.11630549]]\n",
      "25 day input [ 0.88974146  0.88902805  0.87840559  0.88498513  0.89291227  0.89719299\n",
      "  0.88395468  0.89529043  0.90710191  0.90163217  0.90686411  0.90583354\n",
      "  0.87222243  0.84661781  0.84574582  0.85303877  0.83147695  0.84741057\n",
      "  0.86064888  0.85050215  0.87682019  0.86199648  0.88554009  0.8833205\n",
      "  0.90504078  0.91114471  0.90876655  0.92858439  0.9174071   0.90385176\n",
      "  0.91899262  0.92295619  0.90940073  0.90702256  0.88926585  0.89846124\n",
      "  0.9160595   0.80943951  0.78383489  0.7835178   0.80214656  0.79857937\n",
      "  0.81657395  0.82458038  0.8387699   0.84733122  0.85486198  0.86167932\n",
      "  0.84923378  0.86802106  0.86469168  0.8788812   0.88641208  0.90480298\n",
      "  0.89085126  0.89861982  0.90416879  0.91526686  0.90099798  0.89965038\n",
      "  0.90416879  0.88657053  0.86691126  0.86215505  0.84083103  0.85478275\n",
      "  0.84717265  0.90282119  0.88847309  0.87309442  0.86469168  0.86730765\n",
      "  0.86120372  0.86627708  0.89283304  0.75149232  0.68668526  0.60237789\n",
      "  0.51923329  0.43682832  0.34866041  0.2485484   0.1378129   0.03150922\n",
      " -0.04940907 -0.0956661  -0.11122595 -0.10483722 -0.0852612  -0.05921753\n",
      " -0.03103129 -0.00328297  0.02248618  0.04535098  0.06482099  0.08076794\n",
      "  0.09338056  0.10309616  0.11051551  0.11630549]\n",
      "25 day output [[0.12111101]]\n",
      "26 day input [ 0.88902805  0.87840559  0.88498513  0.89291227  0.89719299  0.88395468\n",
      "  0.89529043  0.90710191  0.90163217  0.90686411  0.90583354  0.87222243\n",
      "  0.84661781  0.84574582  0.85303877  0.83147695  0.84741057  0.86064888\n",
      "  0.85050215  0.87682019  0.86199648  0.88554009  0.8833205   0.90504078\n",
      "  0.91114471  0.90876655  0.92858439  0.9174071   0.90385176  0.91899262\n",
      "  0.92295619  0.90940073  0.90702256  0.88926585  0.89846124  0.9160595\n",
      "  0.80943951  0.78383489  0.7835178   0.80214656  0.79857937  0.81657395\n",
      "  0.82458038  0.8387699   0.84733122  0.85486198  0.86167932  0.84923378\n",
      "  0.86802106  0.86469168  0.8788812   0.88641208  0.90480298  0.89085126\n",
      "  0.89861982  0.90416879  0.91526686  0.90099798  0.89965038  0.90416879\n",
      "  0.88657053  0.86691126  0.86215505  0.84083103  0.85478275  0.84717265\n",
      "  0.90282119  0.88847309  0.87309442  0.86469168  0.86730765  0.86120372\n",
      "  0.86627708  0.89283304  0.75149232  0.68668526  0.60237789  0.51923329\n",
      "  0.43682832  0.34866041  0.2485484   0.1378129   0.03150922 -0.04940907\n",
      " -0.0956661  -0.11122595 -0.10483722 -0.0852612  -0.05921753 -0.03103129\n",
      " -0.00328297  0.02248618  0.04535098  0.06482099  0.08076794  0.09338056\n",
      "  0.10309616  0.11051551  0.11630549  0.12111101]\n",
      "26 day output [[0.12548408]]\n",
      "27 day input [ 0.87840559  0.88498513  0.89291227  0.89719299  0.88395468  0.89529043\n",
      "  0.90710191  0.90163217  0.90686411  0.90583354  0.87222243  0.84661781\n",
      "  0.84574582  0.85303877  0.83147695  0.84741057  0.86064888  0.85050215\n",
      "  0.87682019  0.86199648  0.88554009  0.8833205   0.90504078  0.91114471\n",
      "  0.90876655  0.92858439  0.9174071   0.90385176  0.91899262  0.92295619\n",
      "  0.90940073  0.90702256  0.88926585  0.89846124  0.9160595   0.80943951\n",
      "  0.78383489  0.7835178   0.80214656  0.79857937  0.81657395  0.82458038\n",
      "  0.8387699   0.84733122  0.85486198  0.86167932  0.84923378  0.86802106\n",
      "  0.86469168  0.8788812   0.88641208  0.90480298  0.89085126  0.89861982\n",
      "  0.90416879  0.91526686  0.90099798  0.89965038  0.90416879  0.88657053\n",
      "  0.86691126  0.86215505  0.84083103  0.85478275  0.84717265  0.90282119\n",
      "  0.88847309  0.87309442  0.86469168  0.86730765  0.86120372  0.86627708\n",
      "  0.89283304  0.75149232  0.68668526  0.60237789  0.51923329  0.43682832\n",
      "  0.34866041  0.2485484   0.1378129   0.03150922 -0.04940907 -0.0956661\n",
      " -0.11122595 -0.10483722 -0.0852612  -0.05921753 -0.03103129 -0.00328297\n",
      "  0.02248618  0.04535098  0.06482099  0.08076794  0.09338056  0.10309616\n",
      "  0.11051551  0.11630549  0.12111101  0.12548408]\n",
      "27 day output [[0.12983967]]\n",
      "28 day input [ 0.88498513  0.89291227  0.89719299  0.88395468  0.89529043  0.90710191\n",
      "  0.90163217  0.90686411  0.90583354  0.87222243  0.84661781  0.84574582\n",
      "  0.85303877  0.83147695  0.84741057  0.86064888  0.85050215  0.87682019\n",
      "  0.86199648  0.88554009  0.8833205   0.90504078  0.91114471  0.90876655\n",
      "  0.92858439  0.9174071   0.90385176  0.91899262  0.92295619  0.90940073\n",
      "  0.90702256  0.88926585  0.89846124  0.9160595   0.80943951  0.78383489\n",
      "  0.7835178   0.80214656  0.79857937  0.81657395  0.82458038  0.8387699\n",
      "  0.84733122  0.85486198  0.86167932  0.84923378  0.86802106  0.86469168\n",
      "  0.8788812   0.88641208  0.90480298  0.89085126  0.89861982  0.90416879\n",
      "  0.91526686  0.90099798  0.89965038  0.90416879  0.88657053  0.86691126\n",
      "  0.86215505  0.84083103  0.85478275  0.84717265  0.90282119  0.88847309\n",
      "  0.87309442  0.86469168  0.86730765  0.86120372  0.86627708  0.89283304\n",
      "  0.75149232  0.68668526  0.60237789  0.51923329  0.43682832  0.34866041\n",
      "  0.2485484   0.1378129   0.03150922 -0.04940907 -0.0956661  -0.11122595\n",
      " -0.10483722 -0.0852612  -0.05921753 -0.03103129 -0.00328297  0.02248618\n",
      "  0.04535098  0.06482099  0.08076794  0.09338056  0.10309616  0.11051551\n",
      "  0.11630549  0.12111101  0.12548408  0.12983967]\n",
      "28 day output [[0.13443804]]\n",
      "29 day input [ 0.89291227  0.89719299  0.88395468  0.89529043  0.90710191  0.90163217\n",
      "  0.90686411  0.90583354  0.87222243  0.84661781  0.84574582  0.85303877\n",
      "  0.83147695  0.84741057  0.86064888  0.85050215  0.87682019  0.86199648\n",
      "  0.88554009  0.8833205   0.90504078  0.91114471  0.90876655  0.92858439\n",
      "  0.9174071   0.90385176  0.91899262  0.92295619  0.90940073  0.90702256\n",
      "  0.88926585  0.89846124  0.9160595   0.80943951  0.78383489  0.7835178\n",
      "  0.80214656  0.79857937  0.81657395  0.82458038  0.8387699   0.84733122\n",
      "  0.85486198  0.86167932  0.84923378  0.86802106  0.86469168  0.8788812\n",
      "  0.88641208  0.90480298  0.89085126  0.89861982  0.90416879  0.91526686\n",
      "  0.90099798  0.89965038  0.90416879  0.88657053  0.86691126  0.86215505\n",
      "  0.84083103  0.85478275  0.84717265  0.90282119  0.88847309  0.87309442\n",
      "  0.86469168  0.86730765  0.86120372  0.86627708  0.89283304  0.75149232\n",
      "  0.68668526  0.60237789  0.51923329  0.43682832  0.34866041  0.2485484\n",
      "  0.1378129   0.03150922 -0.04940907 -0.0956661  -0.11122595 -0.10483722\n",
      " -0.0852612  -0.05921753 -0.03103129 -0.00328297  0.02248618  0.04535098\n",
      "  0.06482099  0.08076794  0.09338056  0.10309616  0.11051551  0.11630549\n",
      "  0.12111101  0.12548408  0.12983967  0.13443804]\n",
      "29 day output [[0.13939285]]\n",
      "[[0.7514923214912415], [0.6866852641105652], [0.6023778915405273], [0.5192332863807678], [0.4368283152580261], [0.348660409450531], [0.24854840338230133], [0.13781289756298065], [0.031509220600128174], [-0.04940906539559364], [-0.09566609561443329], [-0.11122594773769379], [-0.10483722388744354], [-0.08526119589805603], [-0.05921752750873566], [-0.0310312882065773], [-0.003282974474132061], [0.022486180067062378], [0.04535098373889923], [0.06482098996639252], [0.08076793700456619], [0.09338055551052094], [0.10309615731239319], [0.11051550507545471], [0.11630549281835556], [0.12111101299524307], [0.12548407912254333], [0.1298396736383438], [0.13443803787231445], [0.13939285278320312]]\n"
     ]
    }
   ],
   "source": [
    "# demonstrate prediction for next 10 days\n",
    "lst_output=[]\n",
    "n_steps=100\n",
    "i=0\n",
    "while(i<30):\n",
    "    \n",
    "    if(len(temp_input)>100):\n",
    "        #print(temp_input)\n",
    "        x_input=np.array(temp_input[1:])\n",
    "        print(\"{} day input {}\".format(i,x_input))\n",
    "        x_input=x_input.reshape(1,-1)\n",
    "        x_input = x_input.reshape((1, n_steps, 1))\n",
    "        #print(x_input)\n",
    "        yhat = model.predict(x_input, verbose=0)\n",
    "        print(\"{} day output {}\".format(i,yhat))\n",
    "        temp_input.extend(yhat[0].tolist())\n",
    "        temp_input=temp_input[1:]\n",
    "        #print(temp_input)\n",
    "        lst_output.extend(yhat.tolist())\n",
    "        i=i+1\n",
    "    else:\n",
    "        x_input = x_input.reshape((1, n_steps,1))\n",
    "        yhat = model.predict(x_input, verbose=0)\n",
    "        print(yhat[0])\n",
    "        temp_input.extend(yhat[0].tolist())\n",
    "        print(len(temp_input))\n",
    "        lst_output.extend(yhat.tolist())\n",
    "        i=i+1\n",
    "    \n",
    "\n",
    "print(lst_output)"
   ]
  },
  {
   "cell_type": "code",
   "execution_count": 39,
   "metadata": {},
   "outputs": [],
   "source": [
    "day_new=np.arange(1,101)\n",
    "day_pred=np.arange(101,131)"
   ]
  },
  {
   "cell_type": "code",
   "execution_count": 40,
   "metadata": {},
   "outputs": [],
   "source": [
    "import matplotlib.pyplot as plt"
   ]
  },
  {
   "cell_type": "code",
   "execution_count": 41,
   "metadata": {},
   "outputs": [],
   "source": [
    "l2=len(df1)"
   ]
  },
  {
   "cell_type": "code",
   "execution_count": 42,
   "metadata": {},
   "outputs": [
    {
     "data": {
      "text/plain": [
       "[<matplotlib.lines.Line2D at 0x2242c50ce10>]"
      ]
     },
     "execution_count": 42,
     "metadata": {},
     "output_type": "execute_result"
    },
    {
     "data": {
      "image/png": "[encoded data removed]",
      "text/plain": [
       "<Figure size 640x480 with 1 Axes>"
      ]
     },
     "metadata": {},
     "output_type": "display_data"
    }
   ],
   "source": [
    "plt.plot(day_new,scaler.inverse_transform(df1[l2-100:]))\n",
    "plt.plot(day_pred,scaler.inverse_transform(lst_output))"
   ]
  },
  {
   "cell_type": "code",
   "execution_count": 43,
   "metadata": {},
   "outputs": [
    {
     "data": {
      "text/plain": [
       "[<matplotlib.lines.Line2D at 0x2242c5c8950>]"
      ]
     },
     "execution_count": 43,
     "metadata": {},
     "output_type": "execute_result"
    },
    {
     "data": {
      "image/png": "[encoded data removed]",
      "text/plain": [
       "<Figure size 640x480 with 1 Axes>"
      ]
     },
     "metadata": {},
     "output_type": "display_data"
    }
   ],
   "source": [
    "df3=df1.tolist()\n",
    "df3.extend(lst_output)\n",
    "plt.plot(df3[1200:])"
   ]
  },
  {
   "cell_type": "code",
   "execution_count": 44,
   "metadata": {},
   "outputs": [],
   "source": [
    "df3=scaler.inverse_transform(df3).tolist()"
   ]
  },
  {
   "cell_type": "code",
   "execution_count": 45,
   "metadata": {},
   "outputs": [
    {
     "data": {
      "text/plain": [
       "[<matplotlib.lines.Line2D at 0x2242c3dacd0>]"
      ]
     },
     "execution_count": 45,
     "metadata": {},
     "output_type": "execute_result"
    },
    {
     "data": {
      "image/png": "[encoded data removed]",
      "text/plain": [
       "<Figure size 640x480 with 1 Axes>"
      ]
     },
     "metadata": {},
     "output_type": "display_data"
    }
   ],
   "source": [
    "plt.plot(df3)"
   ]
  }
 ],
 "metadata": {
  "kernelspec": {
   "display_name": "Python 3 (ipykernel)",
   "language": "python",
   "name": "python3"
  },
  "language_info": {
   "codemirror_mode": {
    "name": "ipython",
    "version": 3
   },
   "file_extension": ".py",
   "mimetype": "text/x-python",
   "name": "python",
   "nbconvert_exporter": "python",
   "pygments_lexer": "ipython3",
   "version": "3.11.3"
  }
 },
 "nbformat": 4,
 "nbformat_minor": 2
}
